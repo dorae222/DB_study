{
 "cells": [
  {
   "cell_type": "markdown",
   "id": "27cd1fc6",
   "metadata": {},
   "source": [
    "# 학적조회시스템"
   ]
  },
  {
   "cell_type": "markdown",
   "id": "736ab3fc",
   "metadata": {},
   "source": [
    "## 1. 데이터 삽입"
   ]
  },
  {
   "cell_type": "code",
   "execution_count": 1,
   "id": "cb111975",
   "metadata": {},
   "outputs": [],
   "source": [
    "import pymysql\n",
    "from tkinter import *\n",
    "from tkinter import messagebox"
   ]
  },
  {
   "cell_type": "code",
   "execution_count": 51,
   "id": "2f64c6ca",
   "metadata": {},
   "outputs": [],
   "source": [
    "conn = pymysql.connect(host='127.0.0.1',user='root',password='dhj5173284@',db='sampledb',charset='utf8')\n",
    "cur = conn.cursor()"
   ]
  },
  {
   "cell_type": "markdown",
   "id": "3deb2f5d",
   "metadata": {},
   "source": [
    "### 데이터 테이블 형성"
   ]
  },
  {
   "cell_type": "code",
   "execution_count": 52,
   "id": "05f7e6c8",
   "metadata": {},
   "outputs": [
    {
     "data": {
      "text/plain": [
       "0"
      ]
     },
     "execution_count": 52,
     "metadata": {},
     "output_type": "execute_result"
    }
   ],
   "source": [
    "cur.execute(\"CREATE TABLE studentTable2 (name varchar(5), ID varchar(10), email varchar(25), dept varchar(20))\")"
   ]
  },
  {
   "cell_type": "markdown",
   "id": "a9661d4f",
   "metadata": {},
   "source": [
    "### 기본 데이터 삽입"
   ]
  },
  {
   "cell_type": "code",
   "execution_count": 53,
   "id": "a435e31c",
   "metadata": {},
   "outputs": [
    {
     "data": {
      "text/plain": [
       "1"
      ]
     },
     "execution_count": 53,
     "metadata": {},
     "output_type": "execute_result"
    }
   ],
   "source": [
    "cur.execute(\"INSERT INTO studentTable2 VALUES('도형준','2019056144','dhj1228@hanyang.ac.kr','BussinessSchool')\")\n",
    "cur.execute(\"INSERT INTO studentTable2 VALUES('박현렬','2019054262','phr1022@hanyang.ac.kr','BigData')\")\n",
    "cur.execute(\"INSERT INTO studentTable2 VALUES('홍민상','2019098452','hms0811@hanyang.ac.kr','ComputerScience')\")\n",
    "cur.execute(\"INSERT INTO studentTable2 VALUES('김재원','2019457657','kjw1111@hanyang.ac.kr','Economics')\")\n",
    "cur.execute(\"INSERT INTO studentTable2 VALUES('이지수','2019194839','ljs0923@hanyang.ac.kr','SportsScience')\")"
   ]
  },
  {
   "cell_type": "code",
   "execution_count": 54,
   "id": "ec9b2a2c",
   "metadata": {},
   "outputs": [],
   "source": [
    "conn.commit()"
   ]
  },
  {
   "cell_type": "markdown",
   "id": "b2e76ac5",
   "metadata": {},
   "source": [
    "## 2. 함수 생성"
   ]
  },
  {
   "cell_type": "markdown",
   "id": "fb6e6342",
   "metadata": {},
   "source": [
    "### 입력 함수"
   ]
  },
  {
   "cell_type": "code",
   "execution_count": 3,
   "id": "30ef04db",
   "metadata": {},
   "outputs": [],
   "source": [
    "def insertData():\n",
    "    con, cur = None, None\n",
    "    data1, data2, data3, data4= \"\",\"\",\"\",\"\"\n",
    "    sql = None\n",
    "    \n",
    "    conn = pymysql.connect(host='127.0.0.1',user='root',password='dhj5173284@',db='sampledb',charset='utf8')\n",
    "    cur = conn.cursor()\n",
    "    \n",
    "    data1 = edt1.get(); data2 = edt2.get(); data3 = edt3.get(); data4 = edt4.get()\n",
    "    \n",
    "    try:\n",
    "        sql = \"INSERT INTO studentTable2 VALUES('\"+data1+\"','\"+data2+\"','\"+data3+\"','\"+data4+\"')\"\n",
    "        cur.execute(sql)\n",
    "    except:\n",
    "        messagebox.showerror('오류','데이터 입력 오류가 발생함')\n",
    "    else:\n",
    "        messagebox.showinfo('성공','데이터 입력 성공')\n",
    "    conn.commit()\n",
    "    conn.close()"
   ]
  },
  {
   "cell_type": "markdown",
   "id": "2a37b4ae",
   "metadata": {},
   "source": [
    "### 조회 함수"
   ]
  },
  {
   "cell_type": "code",
   "execution_count": 4,
   "id": "f7f8e5ab",
   "metadata": {},
   "outputs": [],
   "source": [
    "def selectData() :\n",
    "    strData1, strData2, strData3, strData4 = [], [], [], []\n",
    "    conn = pymysql.connect(host='127.0.0.1',user='root',password='dhj5173284@',db='sampledb',charset='utf8')\n",
    "    cur = conn.cursor()\n",
    "    cur.execute(\"SELECT * FROM studentTable2\")\n",
    "    strData1.append(\"이름\")\n",
    "    strData2.append(\"학번\")\n",
    "    strData3.append(\"e-mail\")\n",
    "    strData4.append(\"학과\")\n",
    "    strData1.append(\"--------------------\")\n",
    "    strData2.append(\"--------------------\")\n",
    "    strData3.append(\"--------------------\")\n",
    "    strData4.append(\"--------------------\")\n",
    "    while (True) :\n",
    "        row = cur.fetchone()\n",
    "        if row == None:\n",
    "            break;\n",
    "        strData1.append(row[0])\n",
    "        strData2.append(row[1])\n",
    "        strData3.append(row[2])\n",
    "        strData4.append(row[3])\n",
    "    listData1.delete(0,listData1.size()-1)\n",
    "    listData2.delete(0,listData2.size()-1)\n",
    "    listData3.delete(0,listData3.size()-1)\n",
    "    listData4.delete(0,listData4.size()-1)\n",
    "    for item1, item2, item3, item4 in zip(strData1, strData2, strData3, strData4):\n",
    "        listData1.insert(END, item1)\n",
    "        listData2.insert(END, item2)\n",
    "        listData3.insert(END, item3)\n",
    "        listData4.insert(END, item4)\n",
    "    conn.close()"
   ]
  },
  {
   "cell_type": "markdown",
   "id": "ef855a5d",
   "metadata": {},
   "source": [
    "### 삭제 함수"
   ]
  },
  {
   "cell_type": "code",
   "execution_count": 5,
   "id": "be7059da",
   "metadata": {},
   "outputs": [],
   "source": [
    "def deleteData():\n",
    "    con, cur = None, None\n",
    "    data1, data2, data3, data4= \"\",\"\",\"\",\"\"\n",
    "    sql = None\n",
    "    \n",
    "    conn = pymysql.connect(host='127.0.0.1',user='root',password='dhj5173284@',db='sampledb',charset='utf8')\n",
    "    cur = conn.cursor()\n",
    "    \n",
    "    data1 = edt1.get(); data2 = edt2.get(); data3 = edt3.get(); data4 = edt4.get()\n",
    "    \n",
    "    try:\n",
    "        sql = \"DELETE FROM studentTable2 WHERE id={}\".format(data2)\n",
    "        cur.execute(sql)\n",
    "    except:\n",
    "        messagebox.showerror('오류','데이터 삭제 오류가 발생함')\n",
    "    else:\n",
    "        messagebox.showinfo('성공','데이터 삭제 성공')\n",
    "    conn.commit()\n",
    "    conn.close()"
   ]
  },
  {
   "cell_type": "markdown",
   "id": "2f75926e",
   "metadata": {},
   "source": [
    "### 변경 함수"
   ]
  },
  {
   "cell_type": "code",
   "execution_count": 6,
   "id": "8c31cee0",
   "metadata": {},
   "outputs": [],
   "source": [
    "def updateData():\n",
    "    con, cur = None, None\n",
    "    data1, data2, data3, data4= \"\",\"\",\"\",\"\"\n",
    "    sql = None\n",
    "    \n",
    "    conn = pymysql.connect(host='127.0.0.1',user='root',password='dhj5173284@',db='sampledb',charset='utf8')\n",
    "    cur = conn.cursor()\n",
    "    \n",
    "    data1 = edt1.get(); data2 = edt2.get(); data3 = edt3.get(); data4 = edt4.get()\n",
    "    \n",
    "    try:\n",
    "        sql = \"UPDATE studentTable2 SET id ={} WHERE id={}\".format(data3,data2)\n",
    "        cur.execute(sql)\n",
    "    except:\n",
    "        messagebox.showerror('오류','데이터 변경 오류가 발생함')\n",
    "    else:\n",
    "        messagebox.showinfo('성공','데이터 변경 성공')\n",
    "    conn.commit()\n",
    "    conn.close()"
   ]
  },
  {
   "cell_type": "markdown",
   "id": "8c72ecad",
   "metadata": {},
   "source": [
    "## 3. GUI 메인코드 파트1,2"
   ]
  },
  {
   "cell_type": "code",
   "execution_count": 61,
   "id": "06d1d863",
   "metadata": {},
   "outputs": [],
   "source": [
    "# 메인 코드부\n",
    "import tkinter\n",
    "\n",
    "window = Tk()\n",
    "window.geometry(\"600x300\")\n",
    "window.title(\"학적 관리 시스템\")\n",
    "\n",
    "edtFrame1 = Frame(window)\n",
    "\n",
    "edtFrame1.pack()\n",
    "\n",
    "listFrame = Frame(window)\n",
    "listFrame.pack(side = BOTTOM, fill=BOTH, expand=1)\n",
    "\n",
    "\n",
    "edt1 = Entry(edtFrame1, width=10); edt1.pack(side='left',padx=10,pady=10)\n",
    "edt2 = Entry(edtFrame1, width=10); edt2.pack(side='left',padx=10,pady=10)\n",
    "edt3 = Entry(edtFrame1, width=10); edt3.pack(side='left',padx=10,pady=10)\n",
    "edt4 = Entry(edtFrame1, width=10); edt4.pack(side='left',padx=10,pady=10)\n",
    "\n",
    "# 입력 함수\n",
    "btnInsert = Button(edtFrame1, text =\"입력\", command=insertData)\n",
    "btnInsert.pack(side='left',padx=10,pady=10)\n",
    "# 조회 함수\n",
    "btnInsert = Button(edtFrame1, text =\"전체 조회\", command=selectData)\n",
    "btnInsert.pack(side='left',padx=10,pady=10)\n",
    "# 삭제 함수\n",
    "btnInsert = Button(edtFrame1, text =\"삭제(학번기준)\", command=deleteData)\n",
    "btnInsert.pack(side='left',padx=10,pady=10)\n",
    "# 변경 함수\n",
    "btnInsert = Button(edtFrame1, text =\"변경(학번기준)\", command=updateData)\n",
    "btnInsert.pack(side='left',padx=10,pady=10)\n",
    "\n",
    "listData1 = Listbox(listFrame,bg='skyblue')\n",
    "listData1.insert(0,'이름')\n",
    "listData1.insert(1,'(ex.도형준)')\n",
    "listData1.pack(side=LEFT,fill=BOTH,expand=1)\n",
    "\n",
    "listData2 = Listbox(listFrame,bg='skyblue')\n",
    "listData2.insert(0,'학번')\n",
    "listData2.insert(1,'(ex.2019056144)')\n",
    "listData2.pack(side=LEFT,fill=BOTH,expand=1)\n",
    "\n",
    "listData3 = Listbox(listFrame,bg='skyblue')\n",
    "listData3.insert(0,'e-mail')\n",
    "listData3.insert(1,'(ex.dhj1228@hanyang.ac.kr)')\n",
    "listData3.pack(side=LEFT,fill=BOTH,expand=1)\n",
    "\n",
    "listData4 = Listbox(listFrame,bg='skyblue')\n",
    "listData4.insert(0,'학과')\n",
    "listData4.insert(1,'(ex.BusinessSchool)')\n",
    "listData4.pack(side=LEFT,fill=BOTH,expand=1)\n",
    "\n",
    "window.mainloop()"
   ]
  },
  {
   "cell_type": "code",
   "execution_count": 62,
   "id": "09d850af",
   "metadata": {},
   "outputs": [
    {
     "name": "stdout",
     "output_type": "stream",
     "text": [
      "connect successfull!\n"
     ]
    }
   ],
   "source": [
    "from tkinter import *\n",
    "import pymysql\n",
    "import csv\n",
    "from tkinter import filedialog\n",
    "\n",
    "tess = Tk()\n",
    "\n",
    "def browse_file():\n",
    "    return filedialog.askopenfilename(filetypes=((\"Template files\", \"*.csv\"), (\"All files\", \"*\")))\n",
    "\n",
    "def import_file():\n",
    "    conn = pymysql.connect(host='127.0.0.1',user='root',password='dhj5173284@',db='sampledb',charset='utf8')\n",
    "    print('connect successfull!')\n",
    "\n",
    "    f = open('test_tkinter_csv.csv', 'r')\n",
    "\n",
    "    csvReader = csv.reader(f)\n",
    "\n",
    "    for row in csvReader:\n",
    "        name = (row[0])\n",
    "        ID = (row[1])\n",
    "        email = (row[2])\n",
    "        dept = (row[3])\n",
    "        try:\n",
    "            sql = \"INSERT INTO studentTable2 (name,ID,email,dept) VALUES (%s, %s, %s, %s)\"\n",
    "            cursor = conn.cursor()\n",
    "            cursor.execute(sql,(name,ID,email,dept))\n",
    "            conn.commit()\n",
    "        except:\n",
    "            print('mysql syntax error!')\n",
    "\n",
    "bt = Button(tess, text='browse file', command=browse_file)\n",
    "bt.place(x=10, y=10)\n",
    "\n",
    "bt = Button(tess, text='import file', command=import_file)\n",
    "bt.place(x=10, y=45)\n",
    "\n",
    "\n",
    "tess.mainloop()"
   ]
  },
  {
   "cell_type": "markdown",
   "id": "a0ed35a6",
   "metadata": {},
   "source": [
    "## 4. ★★★프레임 전환하기 및 실행★★★"
   ]
  },
  {
   "cell_type": "code",
   "execution_count": 59,
   "id": "7ec98379",
   "metadata": {},
   "outputs": [
    {
     "name": "stdout",
     "output_type": "stream",
     "text": [
      "connect successfull!\n",
      "connect successfull!\n"
     ]
    },
    {
     "name": "stderr",
     "output_type": "stream",
     "text": [
      "Exception in Tkinter callback\n",
      "Traceback (most recent call last):\n",
      "  File \"C:\\Users\\dhj98\\anaconda3\\lib\\tkinter\\__init__.py\", line 1892, in __call__\n",
      "    return self.func(*args)\n",
      "  File \"C:\\Users\\dhj98\\AppData\\Local\\Temp\\ipykernel_13308\\872221559.py\", line 24, in <lambda>\n",
      "    command=lambda: master.switch_frame(PageOne)).pack()\n",
      "  File \"C:\\Users\\dhj98\\AppData\\Local\\Temp\\ipykernel_13308\\872221559.py\", line 15, in switch_frame\n",
      "    self._frame.destroy()\n",
      "  File \"C:\\Users\\dhj98\\anaconda3\\lib\\tkinter\\__init__.py\", line 2580, in destroy\n",
      "    self.tk.call('destroy', self._w)\n",
      "_tkinter.TclError: can't invoke \"destroy\" command: application has been destroyed\n"
     ]
    }
   ],
   "source": [
    "try:\n",
    "    import Tkinter as tk\n",
    "except:\n",
    "    import tkinter as tk\n",
    "\n",
    "class SampleApp(tk.Tk):\n",
    "    def __init__(self):\n",
    "        tk.Tk.__init__(self)\n",
    "        self._frame = None\n",
    "        self.switch_frame(StartPage)\n",
    "\n",
    "    def switch_frame(self, frame_class):\n",
    "        new_frame = frame_class(self)\n",
    "        if self._frame is not None:\n",
    "            self._frame.destroy()\n",
    "        self._frame = new_frame\n",
    "        self._frame.pack()\n",
    "\n",
    "class StartPage(tk.Frame):\n",
    "    def __init__(self, master):\n",
    "        tk.Frame.__init__(self, master)\n",
    "        tk.Label(self, text=\"Start page\", font=('Helvetica', 18, \"bold\")).pack(side=\"top\", fill=\"x\", pady=5)\n",
    "        tk.Button(self, text=\"Go to page one\",\n",
    "                  command=lambda: master.switch_frame(PageOne)).pack()\n",
    "        tk.Button(self, text=\"Go to page two\",\n",
    "                  command=lambda: master.switch_frame(PageTwo)).pack()\n",
    "\n",
    "class PageOne(tk.Frame):\n",
    "    def __init__(self, master):\n",
    "        tk.Frame.__init__(self, master)\n",
    "        tk.Frame.configure(self,bg='blue')\n",
    "        tk.Label(self, text=\"학적 관리 시스템\", font=('Helvetica', 18, \"bold\")).pack(side=\"top\", fill=\"x\", pady=5)\n",
    "        window = Tk()\n",
    "        window.geometry(\"600x300\")\n",
    "        window.title(\"학적 관리 시스템\")\n",
    "\n",
    "        edtFrame1 = Frame(window)\n",
    "\n",
    "        edtFrame1.pack()\n",
    "\n",
    "        listFrame = Frame(window)\n",
    "        listFrame.pack(side = BOTTOM, fill=BOTH, expand=1)\n",
    "\n",
    "\n",
    "        edt1 = Entry(edtFrame1, width=10); edt1.pack(side='left',padx=10,pady=10)\n",
    "        edt2 = Entry(edtFrame1, width=10); edt2.pack(side='left',padx=10,pady=10)\n",
    "        edt3 = Entry(edtFrame1, width=10); edt3.pack(side='left',padx=10,pady=10)\n",
    "        edt4 = Entry(edtFrame1, width=10); edt4.pack(side='left',padx=10,pady=10)\n",
    "\n",
    "        # 입력 함수\n",
    "        btnInsert = Button(edtFrame1, text =\"입력\", command=insertData)\n",
    "        btnInsert.pack(side='left',padx=10,pady=10)\n",
    "        # 조회 함수\n",
    "        btnInsert = Button(edtFrame1, text =\"전체 조회\", command=selectData)\n",
    "        btnInsert.pack(side='left',padx=10,pady=10)\n",
    "        # 삭제 함수\n",
    "        btnInsert = Button(edtFrame1, text =\"삭제(학번기준)\", command=deleteData)\n",
    "        btnInsert.pack(side='left',padx=10,pady=10)\n",
    "        # 변경 함수\n",
    "        btnInsert = Button(edtFrame1, text =\"변경(학번기준)\", command=updateData)\n",
    "        btnInsert.pack(side='left',padx=10,pady=10)\n",
    "\n",
    "        listData1 = Listbox(listFrame,bg='skyblue')\n",
    "        listData1.insert(0,'이름')\n",
    "        listData1.insert(1,'(ex.도형준)')\n",
    "        listData1.pack(side=LEFT,fill=BOTH,expand=1)\n",
    "\n",
    "        listData2 = Listbox(listFrame,bg='skyblue')\n",
    "        listData2.insert(0,'학번')\n",
    "        listData2.insert(1,'(ex.2019056144)')\n",
    "        listData2.pack(side=LEFT,fill=BOTH,expand=1)\n",
    "\n",
    "        listData3 = Listbox(listFrame,bg='skyblue')\n",
    "        listData3.insert(0,'e-mail')\n",
    "        listData3.insert(1,'(ex.dhj1228@hanyang.ac.kr)')\n",
    "        listData3.pack(side=LEFT,fill=BOTH,expand=1)\n",
    "\n",
    "        listData4 = Listbox(listFrame,bg='skyblue')\n",
    "        listData4.insert(0,'학과')\n",
    "        listData4.insert(1,'(ex.BusinessSchool)')\n",
    "        listData4.pack(side=LEFT,fill=BOTH,expand=1)\n",
    "\n",
    "        tk.Button(self, text=\"Go back to start page\",\n",
    "                  command=lambda: master.switch_frame(StartPage)).pack()\n",
    "        window.mainloop()\n",
    "\n",
    "class PageTwo(tk.Frame):\n",
    "    def __init__(self, master):\n",
    "        tk.Frame.__init__(self, master)\n",
    "        tk.Frame.configure(self,bg='red')\n",
    "        tk.Label(self, text=\"CSV파일\", font=('Helvetica', 18, \"bold\")).pack(side=\"top\", fill=\"x\", pady=5)\n",
    "        \n",
    "        tess = Tk()\n",
    "        # 파일 탐색 함수\n",
    "        def browse_file():\n",
    "            return filedialog.askopenfilename(filetypes=((\"Template files\", \"*.csv\"), (\"All files\", \"*\")))\n",
    "        # csv 파일 DB로 전달하는 함수\n",
    "        def import_file():\n",
    "            conn = pymysql.connect(host='127.0.0.1',user='root',password='dhj5173284@',db='sampledb',charset='utf8')\n",
    "            print('connect successfull!')\n",
    "\n",
    "            f = open('test_tkinter_csv.csv', 'r')\n",
    "\n",
    "            csvReader = csv.reader(f)\n",
    "\n",
    "            for row in csvReader:\n",
    "                name = (row[0])\n",
    "                ID = (row[1])\n",
    "                email = (row[2])\n",
    "                dept = (row[3])\n",
    "                try:\n",
    "                    sql = \"INSERT INTO studentTable2 (name,ID,email,dept) VALUES (%s, %s, %s, %s)\"\n",
    "                    cursor = conn.cursor()\n",
    "                    cursor.execute(sql,(name,ID,email,dept))\n",
    "                    conn.commit()\n",
    "                except:\n",
    "                    print('mysql syntax error!')\n",
    "\n",
    "        bt = Button(tess, text='browse file', command=browse_file)\n",
    "        bt.place(x=10, y=10)\n",
    "\n",
    "        bt = Button(tess, text='import file', command=import_file)\n",
    "        bt.place(x=10, y=45)\n",
    "        \n",
    "        tk.Button(self, text=\"Go back to start page\",\n",
    "                  command=lambda: master.switch_frame(StartPage)).pack()\n",
    "\n",
    "if __name__ == \"__main__\":\n",
    "    app = SampleApp()\n",
    "    app.mainloop()"
   ]
  }
 ],
 "metadata": {
  "kernelspec": {
   "display_name": "Python 3 (ipykernel)",
   "language": "python",
   "name": "python3"
  },
  "language_info": {
   "codemirror_mode": {
    "name": "ipython",
    "version": 3
   },
   "file_extension": ".py",
   "mimetype": "text/x-python",
   "name": "python",
   "nbconvert_exporter": "python",
   "pygments_lexer": "ipython3",
   "version": "3.9.13"
  }
 },
 "nbformat": 4,
 "nbformat_minor": 5
}
